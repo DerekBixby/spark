{
 "cells": [
  {
   "cell_type": "code",
   "execution_count": 1,
   "id": "ddde6cc5",
   "metadata": {},
   "outputs": [],
   "source": [
    "import pyspark.sql.functions as F\n",
    "import pandas as pd \n",
    "import numpy as np\n",
    "from pydataset import data\n",
    "from  pyspark.sql.functions import col, expr\n",
    "from  pyspark.sql.functions import *\n",
    "from pyspark.sql.functions import regexp_extract, regexp_replace\n",
    "\n",
    "\n",
    "import pyspark.sql.functions as F\n",
    "\n"
   ]
  },
  {
   "cell_type": "code",
   "execution_count": 2,
   "id": "a170a859",
   "metadata": {},
   "outputs": [
    {
     "name": "stderr",
     "output_type": "stream",
     "text": [
      "Setting default log level to \"WARN\".\n",
      "To adjust logging level use sc.setLogLevel(newLevel). For SparkR, use setLogLevel(newLevel).\n",
      "23/08/24 08:39:31 WARN NativeCodeLoader: Unable to load native-hadoop library for your platform... using builtin-java classes where applicable\n",
      "[Stage 0:>                                                          (0 + 8) / 8]\r"
     ]
    },
    {
     "name": "stdout",
     "output_type": "stream",
     "text": [
      "+---+\n",
      "| id|\n",
      "+---+\n",
      "|  0|\n",
      "|  1|\n",
      "|  2|\n",
      "|  3|\n",
      "|  4|\n",
      "+---+\n",
      "\n"
     ]
    },
    {
     "name": "stderr",
     "output_type": "stream",
     "text": [
      "\r",
      "                                                                                \r"
     ]
    }
   ],
   "source": [
    "import pyspark\n",
    "spark = pyspark.sql.SparkSession.builder.getOrCreate()\n",
    "spark.range(5).show()\n"
   ]
  },
  {
   "cell_type": "code",
   "execution_count": 3,
   "id": "25640f3c",
   "metadata": {},
   "outputs": [],
   "source": [
    "import pyspark\n",
    "\n",
    "spark = pyspark.sql.SparkSession.builder.getOrCreate()\n"
   ]
  },
  {
   "cell_type": "code",
   "execution_count": 4,
   "id": "8e0361f9",
   "metadata": {},
   "outputs": [
    {
     "name": "stderr",
     "output_type": "stream",
     "text": [
      "23/08/24 08:39:43 WARN SparkSession: Using an existing Spark session; only runtime SQL configurations will take effect.\n"
     ]
    }
   ],
   "source": [
    "import multiprocessing\n",
    "import pyspark\n",
    "\n",
    "nprocs = multiprocessing.cpu_count()\n",
    "\n",
    "spark = (pyspark.sql.SparkSession.builder\n",
    " .master('local')\n",
    " .config('spark.jars.packages', 'mysql:mysql-connector-java:8.0.16')\n",
    " .config('spark.driver.memory', '4G')\n",
    " .config('spark.driver.cores', nprocs)\n",
    " .config('spark.sql.shuffle.partitions', nprocs)\n",
    " .appName('MySparkApplication')\n",
    " .getOrCreate())\n"
   ]
  },
  {
   "cell_type": "markdown",
   "id": "128444d4",
   "metadata": {},
   "source": [
    "1. Create a spark data frame that contains your favorite programming languages.\n",
    "\n",
    "    * The name of the column should be language\n",
    "    * View the schema of the dataframe\n",
    "    * Output the shape of the dataframe\n",
    "    * Show the first 5 records in the dataframe\n"
   ]
  },
  {
   "cell_type": "code",
   "execution_count": 5,
   "id": "93859a43",
   "metadata": {},
   "outputs": [],
   "source": [
    "\n",
    "\n",
    "pd_df = pd.DataFrame({'language': ['python', 'r',\n",
    " 'scala', 'java', 'c', 'c++']})\n",
    "\n"
   ]
  },
  {
   "cell_type": "code",
   "execution_count": 6,
   "id": "d3546d14",
   "metadata": {},
   "outputs": [],
   "source": [
    "\n",
    "\n",
    "df = spark.createDataFrame(pd_df)\n",
    "\n"
   ]
  },
  {
   "cell_type": "code",
   "execution_count": 7,
   "id": "31f22211",
   "metadata": {},
   "outputs": [
    {
     "data": {
      "text/plain": [
       "StructType([StructField('language', StringType(), True)])"
      ]
     },
     "execution_count": 7,
     "metadata": {},
     "output_type": "execute_result"
    }
   ],
   "source": [
    "\n",
    "\n",
    "df.schema\n",
    "\n"
   ]
  },
  {
   "cell_type": "code",
   "execution_count": 8,
   "id": "8a0b804a",
   "metadata": {},
   "outputs": [
    {
     "name": "stderr",
     "output_type": "stream",
     "text": [
      "                                                                                \r"
     ]
    },
    {
     "data": {
      "text/plain": [
       "(6, 1)"
      ]
     },
     "execution_count": 8,
     "metadata": {},
     "output_type": "execute_result"
    }
   ],
   "source": [
    "\n",
    "\n",
    "df.count(), len(df.columns)\n",
    "\n"
   ]
  },
  {
   "cell_type": "code",
   "execution_count": 9,
   "id": "069cc40c",
   "metadata": {},
   "outputs": [
    {
     "name": "stdout",
     "output_type": "stream",
     "text": [
      "+--------+\n",
      "|language|\n",
      "+--------+\n",
      "|  python|\n",
      "|       r|\n",
      "|   scala|\n",
      "|    java|\n",
      "|       c|\n",
      "+--------+\n",
      "only showing top 5 rows\n",
      "\n"
     ]
    }
   ],
   "source": [
    "\n",
    "\n",
    "df.show(5)\n",
    "\n"
   ]
  },
  {
   "cell_type": "markdown",
   "id": "de89f0ed",
   "metadata": {},
   "source": [
    "2. Load the mpg dataset as a spark dataframe."
   ]
  },
  {
   "cell_type": "code",
   "execution_count": 11,
   "id": "b446834b",
   "metadata": {},
   "outputs": [],
   "source": [
    "mpg_pandas = data('mpg')"
   ]
  },
  {
   "cell_type": "code",
   "execution_count": 12,
   "id": "454860c6",
   "metadata": {},
   "outputs": [],
   "source": [
    "\n",
    "\n",
    "mpg = spark.createDataFrame(mpg_pandas)\n",
    "\n"
   ]
  },
  {
   "cell_type": "code",
   "execution_count": 13,
   "id": "6b29d5f1",
   "metadata": {},
   "outputs": [
    {
     "name": "stdout",
     "output_type": "stream",
     "text": [
      "+------------------------------------------+\n",
      "|description                               |\n",
      "+------------------------------------------+\n",
      "|The 1999 audi has a 4 cylinder engine     |\n",
      "|The 1999 audi has a 4 cylinder engine     |\n",
      "|The 2008 audi has a 4 cylinder engine     |\n",
      "|The 2008 audi has a 4 cylinder engine     |\n",
      "|The 1999 audi has a 6 cylinder engine     |\n",
      "|The 1999 audi has a 6 cylinder engine     |\n",
      "|The 2008 audi has a 6 cylinder engine     |\n",
      "|The 1999 audi has a 4 cylinder engine     |\n",
      "|The 1999 audi has a 4 cylinder engine     |\n",
      "|The 2008 audi has a 4 cylinder engine     |\n",
      "|The 2008 audi has a 4 cylinder engine     |\n",
      "|The 1999 audi has a 6 cylinder engine     |\n",
      "|The 1999 audi has a 6 cylinder engine     |\n",
      "|The 2008 audi has a 6 cylinder engine     |\n",
      "|The 2008 audi has a 6 cylinder engine     |\n",
      "|The 1999 audi has a 6 cylinder engine     |\n",
      "|The 2008 audi has a 6 cylinder engine     |\n",
      "|The 2008 audi has a 8 cylinder engine     |\n",
      "|The 2008 chevrolet has a 8 cylinder engine|\n",
      "|The 2008 chevrolet has a 8 cylinder engine|\n",
      "+------------------------------------------+\n",
      "only showing top 20 rows\n",
      "\n"
     ]
    }
   ],
   "source": [
    "mpg.select(\n",
    "    F.concat(\n",
    "    F.lit('The '), \n",
    "    mpg.year,\n",
    "    F.lit(' '), \n",
    "    mpg.manufacturer,\n",
    "    F.lit(' has a '),\n",
    "    mpg.cyl,\n",
    "    F.lit(' cylinder engine')).alias('description')\n",
    "    ).show(truncate=False)\n"
   ]
  },
  {
   "cell_type": "code",
   "execution_count": 14,
   "id": "a6b93189",
   "metadata": {},
   "outputs": [
    {
     "name": "stdout",
     "output_type": "stream",
     "text": [
      "+----------+\n",
      "|     trans|\n",
      "+----------+\n",
      "|  auto(l5)|\n",
      "|manual(m5)|\n",
      "|manual(m6)|\n",
      "|  auto(av)|\n",
      "|  auto(l5)|\n",
      "|manual(m5)|\n",
      "|  auto(av)|\n",
      "|manual(m5)|\n",
      "|  auto(l5)|\n",
      "|manual(m6)|\n",
      "+----------+\n",
      "only showing top 10 rows\n",
      "\n"
     ]
    }
   ],
   "source": [
    "\n",
    "\n",
    "mpg.select(mpg.trans).show(10)\n",
    "\n"
   ]
  },
  {
   "cell_type": "code",
   "execution_count": 15,
   "id": "582b1122",
   "metadata": {},
   "outputs": [
    {
     "name": "stdout",
     "output_type": "stream",
     "text": [
      "+----------+------+\n",
      "|     trans|  tran|\n",
      "+----------+------+\n",
      "|  auto(l5)|  auto|\n",
      "|manual(m5)|manual|\n",
      "|manual(m6)|manual|\n",
      "|  auto(av)|  auto|\n",
      "|  auto(l5)|  auto|\n",
      "+----------+------+\n",
      "only showing top 5 rows\n",
      "\n"
     ]
    }
   ],
   "source": [
    "mpg.withColumn('tran', \n",
    "               F.when(\n",
    "                mpg.trans.like('auto%'), 'auto'\n",
    "                ).otherwise(\n",
    "                    'manual'\n",
    "                    )\n",
    "            ).select('trans','tran').show(5)"
   ]
  },
  {
   "cell_type": "markdown",
   "id": "a7272e52",
   "metadata": {},
   "source": [
    "3. load the tips dataset as a spark dataframe"
   ]
  },
  {
   "cell_type": "code",
   "execution_count": 16,
   "id": "603f0805",
   "metadata": {},
   "outputs": [],
   "source": [
    "tips = spark.createDataFrame(data('tips'))"
   ]
  },
  {
   "cell_type": "code",
   "execution_count": 17,
   "id": "41662133",
   "metadata": {},
   "outputs": [
    {
     "data": {
      "text/plain": [
       "244"
      ]
     },
     "execution_count": 17,
     "metadata": {},
     "output_type": "execute_result"
    }
   ],
   "source": [
    "\n",
    "\n",
    "tips.count()\n",
    "\n"
   ]
  },
  {
   "cell_type": "code",
   "execution_count": 18,
   "id": "59cf0b68",
   "metadata": {},
   "outputs": [
    {
     "name": "stderr",
     "output_type": "stream",
     "text": [
      "\r",
      "[Stage 13:>                                                         (0 + 8) / 8]\r"
     ]
    },
    {
     "name": "stdout",
     "output_type": "stream",
     "text": [
      "+------+-----+\n",
      "|smoker|count|\n",
      "+------+-----+\n",
      "|    No|  151|\n",
      "|   Yes|   93|\n",
      "+------+-----+\n",
      "\n"
     ]
    },
    {
     "name": "stderr",
     "output_type": "stream",
     "text": [
      "\r",
      "                                                                                \r"
     ]
    }
   ],
   "source": [
    "\n",
    "\n",
    "tips.groupby('smoker').count().show()\n",
    "\n"
   ]
  },
  {
   "cell_type": "code",
   "execution_count": 19,
   "id": "28074822",
   "metadata": {},
   "outputs": [
    {
     "name": "stderr",
     "output_type": "stream",
     "text": [
      "\r",
      "[Stage 19:>                                                         (0 + 8) / 8]\r"
     ]
    },
    {
     "name": "stdout",
     "output_type": "stream",
     "text": [
      "+------+-----+-------+\n",
      "|smoker|count|percent|\n",
      "+------+-----+-------+\n",
      "|    No|  151|   62.0|\n",
      "|   Yes|   93|   38.0|\n",
      "+------+-----+-------+\n",
      "\n"
     ]
    },
    {
     "name": "stderr",
     "output_type": "stream",
     "text": [
      "\r",
      "                                                                                \r"
     ]
    }
   ],
   "source": [
    "tips.groupby('smoker').count().withColumn(\n",
    "    'percent', F.round(\n",
    "        F.col('count') / tips.count() * 100\n",
    "        )\n",
    "        ).show()\n"
   ]
  },
  {
   "cell_type": "code",
   "execution_count": 20,
   "id": "09fe47e5",
   "metadata": {},
   "outputs": [
    {
     "name": "stdout",
     "output_type": "stream",
     "text": [
      "+----------+----+------+------+---+------+----+-------------------+\n",
      "|total_bill| tip|   sex|smoker|day|  time|size|     tip_percentage|\n",
      "+----------+----+------+------+---+------+----+-------------------+\n",
      "|     16.99|1.01|Female|    No|Sun|Dinner|   2|0.05944673337257211|\n",
      "|     10.34|1.66|  Male|    No|Sun|Dinner|   3|0.16054158607350097|\n",
      "|     21.01| 3.5|  Male|    No|Sun|Dinner|   3|0.16658733936220846|\n",
      "|     23.68|3.31|  Male|    No|Sun|Dinner|   2| 0.1397804054054054|\n",
      "|     24.59|3.61|Female|    No|Sun|Dinner|   4|0.14680764538430255|\n",
      "+----------+----+------+------+---+------+----+-------------------+\n",
      "only showing top 5 rows\n",
      "\n"
     ]
    }
   ],
   "source": [
    "tips.withColumn(\n",
    "    'tip_percentage', tips.tip / tips.total_bill\n",
    "    ).show(5)\n"
   ]
  },
  {
   "cell_type": "code",
   "execution_count": 21,
   "id": "4dd12664",
   "metadata": {},
   "outputs": [
    {
     "name": "stdout",
     "output_type": "stream",
     "text": [
      "+----+----------+--------------+\n",
      "| tip|total_bill|tip_percentage|\n",
      "+----+----------+--------------+\n",
      "|1.01|     16.99|        0.0594|\n",
      "|1.66|     10.34|        0.1605|\n",
      "| 3.5|     21.01|        0.1666|\n",
      "|3.31|     23.68|        0.1398|\n",
      "|3.61|     24.59|        0.1468|\n",
      "+----+----------+--------------+\n",
      "only showing top 5 rows\n",
      "\n"
     ]
    }
   ],
   "source": [
    "tips.select(\n",
    "    tips.tip,\n",
    "    tips.total_bill,\n",
    "    F.round(\n",
    "        (tips.tip / tips.total_bill), 4\n",
    "        ).alias('tip_percentage')\n",
    "        ).show(5)"
   ]
  },
  {
   "cell_type": "code",
   "execution_count": 22,
   "id": "f59a6dcc",
   "metadata": {},
   "outputs": [
    {
     "name": "stderr",
     "output_type": "stream",
     "text": [
      "\r",
      "[Stage 24:>                                                         (0 + 8) / 8]\r"
     ]
    },
    {
     "name": "stdout",
     "output_type": "stream",
     "text": [
      "+------+------+---------+\n",
      "|   sex|smoker|avg_tip_p|\n",
      "+------+------+---------+\n",
      "|  Male|    No|   0.1607|\n",
      "|Female|    No|   0.1569|\n",
      "|  Male|   Yes|   0.1528|\n",
      "|Female|   Yes|   0.1822|\n",
      "+------+------+---------+\n",
      "\n"
     ]
    },
    {
     "name": "stderr",
     "output_type": "stream",
     "text": [
      "\r",
      "                                                                                \r"
     ]
    }
   ],
   "source": [
    "tips.withColumn(\n",
    "    'tip_percentage',\n",
    "    tips.tip / tips.total_bill\n",
    "    ).groupby(\n",
    "    'sex',\n",
    "    'smoker').agg(\n",
    "        F.round(\n",
    "            F.mean('tip_percentage'),4).alias(\n",
    "                'avg_tip_p')\n",
    "                ).show()\n"
   ]
  },
  {
   "cell_type": "code",
   "execution_count": 23,
   "id": "e992e320",
   "metadata": {},
   "outputs": [
    {
     "name": "stderr",
     "output_type": "stream",
     "text": [
      "\r",
      "[Stage 35:>                                                         (0 + 8) / 8]\r"
     ]
    },
    {
     "name": "stdout",
     "output_type": "stream",
     "text": [
      "+------+------+------+\n",
      "|   sex|    No|   Yes|\n",
      "+------+------+------+\n",
      "|Female|0.1569|0.1822|\n",
      "|  Male|0.1607|0.1528|\n",
      "+------+------+------+\n",
      "\n"
     ]
    },
    {
     "name": "stderr",
     "output_type": "stream",
     "text": [
      "\r",
      "                                                                                \r"
     ]
    }
   ],
   "source": [
    "tips.groupby(\n",
    "    'sex').pivot(\n",
    "        'smoker').agg(\n",
    "            F.round(F.mean(tips.tip / tips.total_bill),4)).show()"
   ]
  },
  {
   "cell_type": "markdown",
   "id": "ab4d3ce2",
   "metadata": {},
   "source": [
    "4. Use the seattle weather dataset referenced in the lesson to answer the questions below"
   ]
  },
  {
   "cell_type": "code",
   "execution_count": 24,
   "id": "6beca31a",
   "metadata": {},
   "outputs": [],
   "source": [
    "from vega_datasets import data\n",
    "weather = data.seattle_weather()\n",
    "weather = spark.createDataFrame(weather)"
   ]
  },
  {
   "cell_type": "code",
   "execution_count": 25,
   "id": "05b8a110",
   "metadata": {},
   "outputs": [
    {
     "name": "stdout",
     "output_type": "stream",
     "text": [
      "+-------------------+-------------+--------+--------+----+-------+\n",
      "|               date|precipitation|temp_max|temp_min|wind|weather|\n",
      "+-------------------+-------------+--------+--------+----+-------+\n",
      "|2012-01-01 00:00:00|          0.0|    12.8|     5.0| 4.7|drizzle|\n",
      "|2012-01-02 00:00:00|         10.9|    10.6|     2.8| 4.5|   rain|\n",
      "|2012-01-03 00:00:00|          0.8|    11.7|     7.2| 2.3|   rain|\n",
      "|2012-01-04 00:00:00|         20.3|    12.2|     5.6| 4.7|   rain|\n",
      "|2012-01-05 00:00:00|          1.3|     8.9|     2.8| 6.1|   rain|\n",
      "+-------------------+-------------+--------+--------+----+-------+\n",
      "only showing top 5 rows\n",
      "\n"
     ]
    }
   ],
   "source": [
    "weather.show(5)"
   ]
  },
  {
   "cell_type": "code",
   "execution_count": 26,
   "id": "0bb95a9d",
   "metadata": {},
   "outputs": [
    {
     "name": "stdout",
     "output_type": "stream",
     "text": [
      "+-------------------+-------------+--------+--------+----+-------+\n",
      "|               date|precipitation|temp_max|temp_min|wind|weather|\n",
      "+-------------------+-------------+--------+--------+----+-------+\n",
      "|2012-01-01 00:00:00|          0.0|   55.04|    41.0| 4.7|drizzle|\n",
      "|2012-01-02 00:00:00|         10.9|   51.08|   37.04| 4.5|   rain|\n",
      "|2012-01-03 00:00:00|          0.8|   53.06|   44.96| 2.3|   rain|\n",
      "|2012-01-04 00:00:00|         20.3|   53.96|   42.08| 4.7|   rain|\n",
      "|2012-01-05 00:00:00|          1.3|   48.02|   37.04| 6.1|   rain|\n",
      "+-------------------+-------------+--------+--------+----+-------+\n",
      "only showing top 5 rows\n",
      "\n"
     ]
    }
   ],
   "source": [
    "weather = \\\n",
    "weather.withColumn(\n",
    "    \"temp_max\", (F.col(\"temp_max\") * 9 / 5 + 32)\n",
    ").withColumn(\"temp_min\", (F.col(\"temp_min\") * 9 / 5 + 32))\n",
    "weather.show(5)\n"
   ]
  },
  {
   "cell_type": "code",
   "execution_count": 27,
   "id": "7fffec51",
   "metadata": {},
   "outputs": [
    {
     "data": {
      "text/plain": [
       "(1461, 6)"
      ]
     },
     "execution_count": 27,
     "metadata": {},
     "output_type": "execute_result"
    }
   ],
   "source": [
    "\n",
    "\n",
    "weather.count(), len(weather.columns)\n",
    "\n"
   ]
  },
  {
   "cell_type": "code",
   "execution_count": 28,
   "id": "641b63d0",
   "metadata": {},
   "outputs": [
    {
     "name": "stderr",
     "output_type": "stream",
     "text": [
      "                                                                                \r"
     ]
    },
    {
     "data": {
      "text/plain": [
       "11"
      ]
     },
     "execution_count": 28,
     "metadata": {},
     "output_type": "execute_result"
    }
   ],
   "source": [
    "weather.withColumn(\n",
    "    'month', F.month(weather.date)\n",
    "    ).groupby(\n",
    "    F.col('month')\n",
    "    ).agg(\n",
    "        F.mean(\n",
    "            weather.precipitation\n",
    "            ).alias('avg_rainfall')\n",
    "            ).sort(\n",
    "                F.col('avg_rainfall').desc()\n",
    "                ).first()[0]"
   ]
  },
  {
   "cell_type": "code",
   "execution_count": 29,
   "id": "34e7d20d",
   "metadata": {},
   "outputs": [
    {
     "data": {
      "text/plain": [
       "Row(year=2012, avg_wind=3.400819672131148)"
      ]
     },
     "execution_count": 29,
     "metadata": {},
     "output_type": "execute_result"
    }
   ],
   "source": [
    "weather.withColumn(\n",
    "    'year',\n",
    "    F.year(weather.date)\n",
    "    ).groupby(\n",
    "    F.col('year')\n",
    "    ).agg(\n",
    "        F.mean(weather.wind).alias('avg_wind')\n",
    "        ).sort(\n",
    "            F.col('avg_wind').desc()\n",
    "            ).first()"
   ]
  },
  {
   "cell_type": "code",
   "execution_count": 30,
   "id": "b21aa821",
   "metadata": {},
   "outputs": [
    {
     "name": "stderr",
     "output_type": "stream",
     "text": [
      "\r",
      "[Stage 52:==============>                                           (2 + 6) / 8]\r"
     ]
    },
    {
     "name": "stdout",
     "output_type": "stream",
     "text": [
      "+-------+-----+\n",
      "|weather|count|\n",
      "+-------+-----+\n",
      "|    fog|   38|\n",
      "|   rain|   35|\n",
      "|    sun|   33|\n",
      "|drizzle|   10|\n",
      "|   snow|    8|\n",
      "+-------+-----+\n",
      "\n"
     ]
    },
    {
     "name": "stderr",
     "output_type": "stream",
     "text": [
      "\r",
      "                                                                                \r"
     ]
    }
   ],
   "source": [
    "weather.filter(\n",
    "    F.month(weather.date) == 1\n",
    "    ).groupby(\n",
    "    weather.weather\n",
    "    ).count().sort(\n",
    "        F.col('count').desc()\n",
    "        ).show()"
   ]
  },
  {
   "cell_type": "code",
   "execution_count": 31,
   "id": "7dd60651",
   "metadata": {},
   "outputs": [
    {
     "name": "stdout",
     "output_type": "stream",
     "text": [
      "+-----------------+-----------------+\n",
      "|average_high_temp| average_low_temp|\n",
      "+-----------------+-----------------+\n",
      "|80.29192307692308|57.52884615384615|\n",
      "+-----------------+-----------------+\n",
      "\n"
     ]
    }
   ],
   "source": [
    "(\n",
    "    weather.filter(F.month(\"date\") == 7)\n",
    "    .filter(F.year(\"date\") > 2012)\n",
    "    .filter(F.year(\"date\") < 2015)\n",
    "    .filter(F.col(\"weather\") == F.lit(\"sun\"))\n",
    "    .agg(\n",
    "        F.avg(\"temp_max\").alias(\"average_high_temp\"),\n",
    "        F.avg(\"temp_min\").alias(\"average_low_temp\"),\n",
    "    )\n",
    "    .show()\n",
    ")\n"
   ]
  },
  {
   "cell_type": "code",
   "execution_count": 32,
   "id": "93de9662",
   "metadata": {},
   "outputs": [
    {
     "name": "stdout",
     "output_type": "stream",
     "text": [
      "+--------------------+\n",
      "|           avg(rain)|\n",
      "+--------------------+\n",
      "|0.021739130434782608|\n",
      "+--------------------+\n",
      "\n"
     ]
    }
   ],
   "source": [
    "(\n",
    "    weather.filter(F.year('date') == 2015)\n",
    "    .filter(F.quarter('date') == 3)\n",
    "    .select(\n",
    "        F.when(\n",
    "            F.col('weather') == 'rain', 1\n",
    "            ).otherwise(0).alias('rain'))\n",
    "    .agg(F.mean('rain'))\n",
    "    .show()\n",
    ")"
   ]
  },
  {
   "cell_type": "code",
   "execution_count": 33,
   "id": "5d6ec8dc",
   "metadata": {},
   "outputs": [
    {
     "name": "stderr",
     "output_type": "stream",
     "text": [
      "\r",
      "[Stage 61:>                                                         (0 + 8) / 8]\r"
     ]
    },
    {
     "name": "stdout",
     "output_type": "stream",
     "text": [
      "+----+-------------------+\n",
      "|year|      avg(did_rain)|\n",
      "+----+-------------------+\n",
      "|2012|0.48360655737704916|\n",
      "|2013|0.41643835616438357|\n",
      "|2014|  0.410958904109589|\n",
      "|2015|0.39452054794520547|\n",
      "+----+-------------------+\n",
      "\n"
     ]
    },
    {
     "name": "stderr",
     "output_type": "stream",
     "text": [
      "\r",
      "                                                                                \r"
     ]
    }
   ],
   "source": [
    "(\n",
    "    weather.withColumn(\n",
    "        'year', F.year('date')\n",
    "        )\n",
    "    .select(\n",
    "        F.when(\n",
    "            F.col('precipitation') > 0, 1\n",
    "            ).otherwise(0).alias('did_rain'), 'year'\n",
    "            )\n",
    "    .groupby('year')\n",
    "    .agg(F.mean('did_rain'))\n",
    "    .show()\n",
    ")\n"
   ]
  },
  {
   "cell_type": "code",
   "execution_count": null,
   "id": "eb74c9fc",
   "metadata": {},
   "outputs": [],
   "source": []
  }
 ],
 "metadata": {
  "kernelspec": {
   "display_name": "Python 3 (ipykernel)",
   "language": "python",
   "name": "python3"
  },
  "language_info": {
   "codemirror_mode": {
    "name": "ipython",
    "version": 3
   },
   "file_extension": ".py",
   "mimetype": "text/x-python",
   "name": "python",
   "nbconvert_exporter": "python",
   "pygments_lexer": "ipython3",
   "version": "3.10.9"
  }
 },
 "nbformat": 4,
 "nbformat_minor": 5
}
